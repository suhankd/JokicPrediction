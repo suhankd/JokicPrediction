{
 "cells": [
  {
   "cell_type": "code",
   "execution_count": 1,
   "metadata": {},
   "outputs": [],
   "source": [
    "import pandas as pd\n",
    "import numpy as np\n",
    "\n",
    "import glob"
   ]
  },
  {
   "cell_type": "code",
   "execution_count": 7,
   "metadata": {},
   "outputs": [],
   "source": [
    "# Here, we made a group of dfs, each df representing the game-logs of one season.\n",
    "\n",
    "path = r\"C:\\Users\\suhan\\Programming\\JokicPrediction\\Data\"\n",
    "raw_datafiles = glob.glob(f\"{path}/*.csv\")\n",
    "dfs = {file.split('/')[-1].split('.')[0]: pd.read_csv(file) for file in raw_datafiles}\n",
    "\n",
    "for year in range(2020,2025):\n",
    "    dfs[f'{path}\\\\{year}'].set_index('G',inplace=True)"
   ]
  }
 ],
 "metadata": {
  "kernelspec": {
   "display_name": "Python 3",
   "language": "python",
   "name": "python3"
  },
  "language_info": {
   "codemirror_mode": {
    "name": "ipython",
    "version": 3
   },
   "file_extension": ".py",
   "mimetype": "text/x-python",
   "name": "python",
   "nbconvert_exporter": "python",
   "pygments_lexer": "ipython3",
   "version": "3.12.5"
  }
 },
 "nbformat": 4,
 "nbformat_minor": 2
}
